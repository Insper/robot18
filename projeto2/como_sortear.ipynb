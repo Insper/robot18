{
 "cells": [
  {
   "cell_type": "markdown",
   "metadata": {},
   "source": [
    "# Exemplo de reamostragem das partículas"
   ]
  },
  {
   "cell_type": "code",
   "execution_count": 1,
   "metadata": {
    "collapsed": true
   },
   "outputs": [],
   "source": [
    "import numpy as np\n",
    "\n",
    "import projeto_pf # Seu trabalho vai aqui\n",
    "import inspercles\n",
    "from pf import draw_random_sample\n",
    "\n",
    "%matplotlib inline\n",
    "\n"
   ]
  },
  {
   "cell_type": "markdown",
   "metadata": {},
   "source": [
    "## Criação das partículas e do robô"
   ]
  },
  {
   "cell_type": "code",
   "execution_count": 2,
   "metadata": {
    "collapsed": true
   },
   "outputs": [],
   "source": [
    "\n",
    "particulas = projeto_pf.cria_particulas()\n",
    "robot = projeto_pf.robot\n",
    "\n",
    "    \n",
    "    \n",
    "    \n",
    "    "
   ]
  },
  {
   "cell_type": "markdown",
   "metadata": {},
   "source": [
    "## Mapa com posição inicial"
   ]
  },
  {
   "cell_type": "markdown",
   "metadata": {},
   "source": [
    "Este desenho é só ilustrativo, você não vai precisar chamar o código de desenho no projeto. Somente precisa criar as funções adequadas em `projeto_pf.py`."
   ]
  },
  {
   "cell_type": "code",
   "execution_count": 3,
   "metadata": {
    "scrolled": false
   },
   "outputs": [
    {
     "data": {
      "text/plain": [
       "<matplotlib.axes._subplots.AxesSubplot at 0x111a5a400>"
      ]
     },
     "execution_count": 3,
     "metadata": {},
     "output_type": "execute_result"
    },
    {
     "data": {
      "image/png": "[encoded data removed]",
      "text/plain": [
       "<Figure size 720x720 with 1 Axes>"
      ]
     },
     "metadata": {},
     "output_type": "display_data"
    }
   ],
   "source": [
    "inspercles.nb_draw_map(inspercles.color_image, particles = particulas, pose=robot.pose(), robot=True)"
   ]
  },
  {
   "cell_type": "markdown",
   "metadata": {},
   "source": [
    "Vamos tornar a distribuição de probabilidade nas partículas bem desequilibrada para observarmos a reamostragem"
   ]
  },
  {
   "cell_type": "code",
   "execution_count": 4,
   "metadata": {
    "collapsed": true
   },
   "outputs": [],
   "source": [
    "particulas[0].w = 0.8   # a primeira recebe 80% da probabilidade\n",
    "for i in range(1, 10):\n",
    "    particulas[i].w = 0.2/9.0 # As subsequentes 1/9 do que sobrou (20%)"
   ]
  },
  {
   "cell_type": "code",
   "execution_count": 5,
   "metadata": {
    "collapsed": true
   },
   "outputs": [],
   "source": [
    "# Vamos separar a informação de posição das partículas para que possamos \"ver\"  as partículas\n",
    "particulas_exp = [[p.x, p.y, p.theta] for p in particulas]\n",
    "\n",
    "particulas_pesos = [np.round(p.w, decimals=3) for p in particulas]"
   ]
  },
  {
   "cell_type": "code",
   "execution_count": 6,
   "metadata": {},
   "outputs": [
    {
     "data": {
      "text/plain": [
       "[[435.64912922052866, 423.63345088747377, 1.8110965895417699],\n",
       " [389.5909983528429, 324.49135159042254, -0.22592971277611498],\n",
       " [376.96529789923966, 324.0136616801739, 0.08566611049801692],\n",
       " [350.43202179475963, 375.78429328072286, 1.4921327966847457],\n",
       " [367.1358811203618, 368.706014359398, 1.4467740996243126],\n",
       " [395.9827539663522, 399.18645610591966, 0.12299211981496783],\n",
       " [397.9844826046984, 385.7442939851645, 1.6939427004643959],\n",
       " [393.1390550819377, 422.92628382098843, 1.484664631276911],\n",
       " [368.7129962279233, 361.5793044546795, 0.41554711133960576],\n",
       " [362.2254645197275, 358.1011713782407, 0.5336655408648436]]"
      ]
     },
     "execution_count": 6,
     "metadata": {},
     "output_type": "execute_result"
    }
   ],
   "source": [
    "particulas_exp"
   ]
  },
  {
   "cell_type": "markdown",
   "metadata": {},
   "source": [
    "Vejam como está a distribuição dos pesos"
   ]
  },
  {
   "cell_type": "code",
   "execution_count": 7,
   "metadata": {},
   "outputs": [
    {
     "data": {
      "text/plain": [
       "[0.8, 0.022, 0.022, 0.022, 0.022, 0.022, 0.022, 0.022, 0.022, 0.022]"
      ]
     },
     "execution_count": 7,
     "metadata": {},
     "output_type": "execute_result"
    }
   ],
   "source": [
    "particulas_pesos"
   ]
  },
  {
   "cell_type": "markdown",
   "metadata": {},
   "source": [
    "## Fazendo a reamostragem"
   ]
  },
  {
   "cell_type": "markdown",
   "metadata": {},
   "source": [
    "Vamos criar novas partículas reamostrando usando a função `pf.draw_random_sample`"
   ]
  },
  {
   "cell_type": "code",
   "execution_count": 8,
   "metadata": {},
   "outputs": [],
   "source": [
    "novas_particulas = draw_random_sample(particulas, particulas_pesos, 10)"
   ]
  },
  {
   "cell_type": "markdown",
   "metadata": {},
   "source": [
    "A probabilidade que está em peso agora o sentido. Precisamos fazer com que todos os pesos novamente virem w=1  (ou $1/n$ como na folha de papel, tanto faz desde que todas fiquem iguais)"
   ]
  },
  {
   "cell_type": "code",
   "execution_count": 9,
   "metadata": {
    "collapsed": true
   },
   "outputs": [],
   "source": [
    "for p in novas_particulas:\n",
    "    p.w = 1"
   ]
  },
  {
   "cell_type": "markdown",
   "metadata": {},
   "source": [
    "O array *novas_particulas* contém as partículas depois da reamostragem. "
   ]
  },
  {
   "cell_type": "markdown",
   "metadata": {},
   "source": [
    "## Depois da reamostragem"
   ]
  },
  {
   "cell_type": "markdown",
   "metadata": {},
   "source": [
    "Vamos observar os valores das partículas"
   ]
  },
  {
   "cell_type": "code",
   "execution_count": 10,
   "metadata": {
    "collapsed": true
   },
   "outputs": [],
   "source": [
    "valores_novas_particulas = [[p.x, p.y, p.theta] for p in novas_particulas]"
   ]
  },
  {
   "cell_type": "markdown",
   "metadata": {},
   "source": [
    "Observem com a partícula que na geração anterior tinha $80\\%$ de probabilidade é muito mais comum agora\n",
    "\n",
    "\n",
    "**<font color=red>Note que para o projeto a partícula precisa sofrer uma pequena mutação</font>**"
   ]
  },
  {
   "cell_type": "code",
   "execution_count": 11,
   "metadata": {},
   "outputs": [
    {
     "data": {
      "text/plain": [
       "[[350.43202179475963, 375.78429328072286, 1.4921327966847457],\n",
       " [435.64912922052866, 423.63345088747377, 1.8110965895417699],\n",
       " [368.7129962279233, 361.5793044546795, 0.41554711133960576],\n",
       " [376.96529789923966, 324.0136616801739, 0.08566611049801692],\n",
       " [368.7129962279233, 361.5793044546795, 0.41554711133960576],\n",
       " [368.7129962279233, 361.5793044546795, 0.41554711133960576],\n",
       " [435.64912922052866, 423.63345088747377, 1.8110965895417699],\n",
       " [435.64912922052866, 423.63345088747377, 1.8110965895417699],\n",
       " [435.64912922052866, 423.63345088747377, 1.8110965895417699],\n",
       " [395.9827539663522, 399.18645610591966, 0.12299211981496783]]"
      ]
     },
     "execution_count": 11,
     "metadata": {},
     "output_type": "execute_result"
    }
   ],
   "source": [
    "valores_novas_particulas"
   ]
  },
  {
   "cell_type": "markdown",
   "metadata": {},
   "source": [
    "![](animated.gif)"
   ]
  },
  {
   "cell_type": "code",
   "execution_count": null,
   "metadata": {},
   "outputs": [],
   "source": []
  }
 ],
 "metadata": {
  "kernelspec": {
   "display_name": "Python 3",
   "language": "python",
   "name": "python3"
  },
  "language_info": {
   "codemirror_mode": {
    "name": "ipython",
    "version": 3
   },
   "file_extension": ".py",
   "mimetype": "text/x-python",
   "name": "python",
   "nbconvert_exporter": "python",
   "pygments_lexer": "ipython3",
   "version": "3.5.5"
  }
 },
 "nbformat": 4,
 "nbformat_minor": 2
}
